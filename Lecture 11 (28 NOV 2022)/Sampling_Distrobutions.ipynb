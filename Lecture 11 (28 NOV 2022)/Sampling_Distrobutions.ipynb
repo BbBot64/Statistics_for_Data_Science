{
 "cells": [
  {
   "cell_type": "code",
   "execution_count": 1,
   "metadata": {},
   "outputs": [],
   "source": [
    "import numpy as np\n",
    "import matplotlib.pyplot as plt\n",
    "from scipy.stats import bernoulli, norm, poisson, kurtosis, skew\n",
    "from scipy import stats\n",
    "import seaborn as sb"
   ]
  },
  {
   "cell_type": "code",
   "execution_count": 2,
   "metadata": {},
   "outputs": [
    {
     "name": "stdout",
     "output_type": "stream",
     "text": [
      "Mean = 49.5\n",
      "Standard Deviation = 28.86607004772212\n"
     ]
    }
   ],
   "source": [
    "X = np.random.choice(np.arange(0, 100), 100, replace=False)\n",
    "print(f'Mean = {X.mean()}')\n",
    "print(f'Standard Deviation = {X.std()}')"
   ]
  },
  {
   "cell_type": "code",
   "execution_count": 3,
   "metadata": {},
   "outputs": [],
   "source": [
    "random_samples = []\n",
    "for i in range(100):\n",
    "    random_samples.append(np.random.choice(X, 5))\n",
    "random_samples = np.array(random_samples)"
   ]
  },
  {
   "cell_type": "code",
   "execution_count": 4,
   "metadata": {},
   "outputs": [
    {
     "data": {
      "text/plain": [
       "array([[35, 82, 32, 79, 75],\n",
       "       [62, 61, 44, 13, 55],\n",
       "       [48, 83, 26, 14, 57],\n",
       "       [50, 68, 85, 40, 23],\n",
       "       [43, 98, 35, 63, 40]])"
      ]
     },
     "execution_count": 4,
     "metadata": {},
     "output_type": "execute_result"
    }
   ],
   "source": [
    "# 5 Examples of our random samples\n",
    "random_samples[:5]"
   ]
  },
  {
   "cell_type": "code",
   "execution_count": 2,
   "metadata": {},
   "outputs": [
    {
     "name": "stdout",
     "output_type": "stream",
     "text": [
      "Type integers, each followed by Enter; or just Enter to finish\n",
      "count = 1, total = 1, mean = 1.0\n",
      "count = 2, total = 3, mean = 1.5\n",
      "count = 3, total = 6, mean = 2.0\n",
      "count = 4, total = 10, mean = 2.5\n",
      "count = 5, total = 15, mean = 3.0\n"
     ]
    }
   ],
   "source": [
    "print(\"Type integers, each followed by Enter; or just Enter to finish\")\n",
    "total = 0\n",
    "count = 0\n",
    "while True:\n",
    "    line = input(\"Integer: \")\n",
    "    if line:\n",
    "        try:\n",
    "            number = int(line)\n",
    "        except ValueError as err:\n",
    "            print(err)\n",
    "            continue\n",
    "        total += number\n",
    "        count += 1\n",
    "    else:\n",
    "        break\n",
    "    if count:\n",
    "        print(f'{count = }, {total = }, mean = {total/count}')"
   ]
  },
  {
   "cell_type": "code",
   "execution_count": null,
   "metadata": {},
   "outputs": [],
   "source": []
  }
 ],
 "metadata": {
  "kernelspec": {
   "display_name": "Python 3.10.4 64-bit",
   "language": "python",
   "name": "python3"
  },
  "language_info": {
   "codemirror_mode": {
    "name": "ipython",
    "version": 3
   },
   "file_extension": ".py",
   "mimetype": "text/x-python",
   "name": "python",
   "nbconvert_exporter": "python",
   "pygments_lexer": "ipython3",
   "version": "3.10.4"
  },
  "orig_nbformat": 4,
  "vscode": {
   "interpreter": {
    "hash": "369f2c481f4da34e4445cda3fffd2e751bd1c4d706f27375911949ba6bb62e1c"
   }
  }
 },
 "nbformat": 4,
 "nbformat_minor": 2
}
