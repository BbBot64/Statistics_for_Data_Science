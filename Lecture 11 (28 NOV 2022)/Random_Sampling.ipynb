{
 "cells": [
  {
   "cell_type": "code",
   "execution_count": 2,
   "metadata": {},
   "outputs": [],
   "source": [
    "import random as rd"
   ]
  },
  {
   "cell_type": "code",
   "execution_count": 17,
   "metadata": {},
   "outputs": [
    {
     "name": "stdout",
     "output_type": "stream",
     "text": [
      "[23, 97, 34, 87, 85, 2, 67, 65, 24, 69]\n"
     ]
    }
   ],
   "source": [
    "sample_int_list = rd.sample(range(100), k=10)\n",
    "print(sample_int_list)"
   ]
  },
  {
   "cell_type": "code",
   "execution_count": 18,
   "metadata": {},
   "outputs": [],
   "source": [
    "controller_colors = ['Red', 'Blue', 'Yellow', 'Pink', 'Green', 'Purple', 'Gray', 'Gray Camo', 'Green Camo', 'Blue Camo']"
   ]
  },
  {
   "cell_type": "code",
   "execution_count": 19,
   "metadata": {},
   "outputs": [
    {
     "name": "stdout",
     "output_type": "stream",
     "text": [
      "['Red', 'Green Camo', 'Gray Camo', 'Purple']\n"
     ]
    }
   ],
   "source": [
    "sample_colors = rd.sample(controller_colors, k=4)\n",
    "print(sample_colors)"
   ]
  },
  {
   "cell_type": "code",
   "execution_count": 23,
   "metadata": {},
   "outputs": [
    {
     "data": {
      "text/plain": [
       "['Purple',\n",
       " 'Red',\n",
       " 'Purple',\n",
       " 'Green Camo',\n",
       " 'Green Camo',\n",
       " 'Gray Camo',\n",
       " 'Gray Camo',\n",
       " 'Gray Camo',\n",
       " 'Purple',\n",
       " 'Purple']"
      ]
     },
     "execution_count": 23,
     "metadata": {},
     "output_type": "execute_result"
    }
   ],
   "source": [
    "rd.sample(sample_colors, counts=[1, 2, 3, 4], k=10)"
   ]
  },
  {
   "cell_type": "code",
   "execution_count": null,
   "metadata": {},
   "outputs": [],
   "source": []
  }
 ],
 "metadata": {
  "kernelspec": {
   "display_name": "Python 3.10.4 64-bit",
   "language": "python",
   "name": "python3"
  },
  "language_info": {
   "codemirror_mode": {
    "name": "ipython",
    "version": 3
   },
   "file_extension": ".py",
   "mimetype": "text/x-python",
   "name": "python",
   "nbconvert_exporter": "python",
   "pygments_lexer": "ipython3",
   "version": "3.10.4"
  },
  "orig_nbformat": 4,
  "vscode": {
   "interpreter": {
    "hash": "369f2c481f4da34e4445cda3fffd2e751bd1c4d706f27375911949ba6bb62e1c"
   }
  }
 },
 "nbformat": 4,
 "nbformat_minor": 2
}
