{
 "cells": [
  {
   "attachments": {},
   "cell_type": "markdown",
   "metadata": {},
   "source": [
    "# DTSC Project 2: \n",
    "* Name: Jason Ortiz\n",
    "* NYIT ID: 1258640\n",
    "* Due: 12/12/2022 @ 11:59PM\n",
    "* Professor: Kiran Balgani"
   ]
  },
  {
   "cell_type": "code",
   "execution_count": 63,
   "metadata": {},
   "outputs": [],
   "source": [
    "import pandas as pd\n",
    "import numpy as np\n",
    "from sklearn.model_selection import train_test_split\n",
    "from sklearn.ensemble import RandomForestClassifier\n",
    "from sklearn import tree\n",
    "from sklearn.tree import DecisionTreeClassifier\n",
    "from sklearn.naive_bayes import GaussianNB\n",
    "from sklearn.ensemble import AdaBoostClassifier, VotingClassifier\n",
    "from sklearn.linear_model import LogisticRegression\n",
    "from sklearn.neighbors import KNeighborsClassifier\n",
    "from sklearn.metrics import confusion_matrix\n",
    "from sklearn.metrics import classification_report\n",
    "from sklearn.metrics import accuracy_score\n",
    "import matplotlib.pyplot as plt\n",
    "import seaborn as sb"
   ]
  },
  {
   "attachments": {},
   "cell_type": "markdown",
   "metadata": {},
   "source": [
    "## Data Prepping"
   ]
  },
  {
   "cell_type": "code",
   "execution_count": 64,
   "metadata": {},
   "outputs": [],
   "source": [
    "original_spam_df = pd.read_csv('spam.csv', sep=',')"
   ]
  },
  {
   "cell_type": "code",
   "execution_count": 65,
   "metadata": {},
   "outputs": [
    {
     "data": {
      "text/html": [
       "<div>\n",
       "<style scoped>\n",
       "    .dataframe tbody tr th:only-of-type {\n",
       "        vertical-align: middle;\n",
       "    }\n",
       "\n",
       "    .dataframe tbody tr th {\n",
       "        vertical-align: top;\n",
       "    }\n",
       "\n",
       "    .dataframe thead th {\n",
       "        text-align: right;\n",
       "    }\n",
       "</style>\n",
       "<table border=\"1\" class=\"dataframe\">\n",
       "  <thead>\n",
       "    <tr style=\"text-align: right;\">\n",
       "      <th></th>\n",
       "      <th>make</th>\n",
       "      <th>address</th>\n",
       "      <th>all</th>\n",
       "      <th>3d</th>\n",
       "      <th>our</th>\n",
       "      <th>over</th>\n",
       "      <th>remove</th>\n",
       "      <th>internet</th>\n",
       "      <th>order</th>\n",
       "      <th>mail</th>\n",
       "      <th>...</th>\n",
       "      <th>semicol</th>\n",
       "      <th>paren</th>\n",
       "      <th>bracket</th>\n",
       "      <th>bang</th>\n",
       "      <th>dollar</th>\n",
       "      <th>pound</th>\n",
       "      <th>cap_avg</th>\n",
       "      <th>cap_long</th>\n",
       "      <th>cap_total</th>\n",
       "      <th>Class</th>\n",
       "    </tr>\n",
       "  </thead>\n",
       "  <tbody>\n",
       "    <tr>\n",
       "      <th>0</th>\n",
       "      <td>0.00</td>\n",
       "      <td>0.00</td>\n",
       "      <td>0.29</td>\n",
       "      <td>0.0</td>\n",
       "      <td>0.00</td>\n",
       "      <td>0.00</td>\n",
       "      <td>0.00</td>\n",
       "      <td>0.00</td>\n",
       "      <td>0.00</td>\n",
       "      <td>0.00</td>\n",
       "      <td>...</td>\n",
       "      <td>0.000</td>\n",
       "      <td>0.178</td>\n",
       "      <td>0.0</td>\n",
       "      <td>0.044</td>\n",
       "      <td>0.000</td>\n",
       "      <td>0.00</td>\n",
       "      <td>1.666</td>\n",
       "      <td>10</td>\n",
       "      <td>180</td>\n",
       "      <td>ham</td>\n",
       "    </tr>\n",
       "    <tr>\n",
       "      <th>1</th>\n",
       "      <td>0.46</td>\n",
       "      <td>0.00</td>\n",
       "      <td>0.00</td>\n",
       "      <td>0.0</td>\n",
       "      <td>0.00</td>\n",
       "      <td>0.00</td>\n",
       "      <td>0.00</td>\n",
       "      <td>0.00</td>\n",
       "      <td>0.00</td>\n",
       "      <td>0.00</td>\n",
       "      <td>...</td>\n",
       "      <td>0.000</td>\n",
       "      <td>0.125</td>\n",
       "      <td>0.0</td>\n",
       "      <td>0.000</td>\n",
       "      <td>0.000</td>\n",
       "      <td>0.00</td>\n",
       "      <td>1.510</td>\n",
       "      <td>10</td>\n",
       "      <td>74</td>\n",
       "      <td>ham</td>\n",
       "    </tr>\n",
       "    <tr>\n",
       "      <th>2</th>\n",
       "      <td>0.00</td>\n",
       "      <td>0.00</td>\n",
       "      <td>0.00</td>\n",
       "      <td>0.0</td>\n",
       "      <td>0.00</td>\n",
       "      <td>0.00</td>\n",
       "      <td>0.00</td>\n",
       "      <td>0.00</td>\n",
       "      <td>0.00</td>\n",
       "      <td>0.00</td>\n",
       "      <td>...</td>\n",
       "      <td>0.000</td>\n",
       "      <td>0.000</td>\n",
       "      <td>0.0</td>\n",
       "      <td>0.000</td>\n",
       "      <td>0.000</td>\n",
       "      <td>0.00</td>\n",
       "      <td>1.718</td>\n",
       "      <td>11</td>\n",
       "      <td>55</td>\n",
       "      <td>ham</td>\n",
       "    </tr>\n",
       "    <tr>\n",
       "      <th>3</th>\n",
       "      <td>0.33</td>\n",
       "      <td>0.44</td>\n",
       "      <td>0.37</td>\n",
       "      <td>0.0</td>\n",
       "      <td>0.14</td>\n",
       "      <td>0.11</td>\n",
       "      <td>0.00</td>\n",
       "      <td>0.07</td>\n",
       "      <td>0.97</td>\n",
       "      <td>1.16</td>\n",
       "      <td>...</td>\n",
       "      <td>0.006</td>\n",
       "      <td>0.159</td>\n",
       "      <td>0.0</td>\n",
       "      <td>0.069</td>\n",
       "      <td>0.221</td>\n",
       "      <td>0.11</td>\n",
       "      <td>3.426</td>\n",
       "      <td>72</td>\n",
       "      <td>819</td>\n",
       "      <td>spam</td>\n",
       "    </tr>\n",
       "    <tr>\n",
       "      <th>4</th>\n",
       "      <td>0.00</td>\n",
       "      <td>2.08</td>\n",
       "      <td>0.00</td>\n",
       "      <td>0.0</td>\n",
       "      <td>3.12</td>\n",
       "      <td>0.00</td>\n",
       "      <td>1.04</td>\n",
       "      <td>0.00</td>\n",
       "      <td>0.00</td>\n",
       "      <td>0.00</td>\n",
       "      <td>...</td>\n",
       "      <td>0.000</td>\n",
       "      <td>0.000</td>\n",
       "      <td>0.0</td>\n",
       "      <td>0.263</td>\n",
       "      <td>0.000</td>\n",
       "      <td>0.00</td>\n",
       "      <td>1.428</td>\n",
       "      <td>4</td>\n",
       "      <td>20</td>\n",
       "      <td>spam</td>\n",
       "    </tr>\n",
       "    <tr>\n",
       "      <th>...</th>\n",
       "      <td>...</td>\n",
       "      <td>...</td>\n",
       "      <td>...</td>\n",
       "      <td>...</td>\n",
       "      <td>...</td>\n",
       "      <td>...</td>\n",
       "      <td>...</td>\n",
       "      <td>...</td>\n",
       "      <td>...</td>\n",
       "      <td>...</td>\n",
       "      <td>...</td>\n",
       "      <td>...</td>\n",
       "      <td>...</td>\n",
       "      <td>...</td>\n",
       "      <td>...</td>\n",
       "      <td>...</td>\n",
       "      <td>...</td>\n",
       "      <td>...</td>\n",
       "      <td>...</td>\n",
       "      <td>...</td>\n",
       "      <td>...</td>\n",
       "    </tr>\n",
       "    <tr>\n",
       "      <th>4596</th>\n",
       "      <td>0.00</td>\n",
       "      <td>0.00</td>\n",
       "      <td>0.53</td>\n",
       "      <td>0.0</td>\n",
       "      <td>0.00</td>\n",
       "      <td>0.53</td>\n",
       "      <td>0.00</td>\n",
       "      <td>0.00</td>\n",
       "      <td>0.00</td>\n",
       "      <td>0.53</td>\n",
       "      <td>...</td>\n",
       "      <td>0.000</td>\n",
       "      <td>0.101</td>\n",
       "      <td>0.0</td>\n",
       "      <td>0.000</td>\n",
       "      <td>0.000</td>\n",
       "      <td>0.00</td>\n",
       "      <td>1.857</td>\n",
       "      <td>16</td>\n",
       "      <td>52</td>\n",
       "      <td>ham</td>\n",
       "    </tr>\n",
       "    <tr>\n",
       "      <th>4597</th>\n",
       "      <td>0.00</td>\n",
       "      <td>0.00</td>\n",
       "      <td>0.00</td>\n",
       "      <td>0.0</td>\n",
       "      <td>0.00</td>\n",
       "      <td>0.00</td>\n",
       "      <td>0.00</td>\n",
       "      <td>0.00</td>\n",
       "      <td>0.00</td>\n",
       "      <td>0.00</td>\n",
       "      <td>...</td>\n",
       "      <td>0.000</td>\n",
       "      <td>0.443</td>\n",
       "      <td>0.0</td>\n",
       "      <td>0.221</td>\n",
       "      <td>0.665</td>\n",
       "      <td>0.00</td>\n",
       "      <td>3.812</td>\n",
       "      <td>15</td>\n",
       "      <td>61</td>\n",
       "      <td>spam</td>\n",
       "    </tr>\n",
       "    <tr>\n",
       "      <th>4598</th>\n",
       "      <td>0.00</td>\n",
       "      <td>0.00</td>\n",
       "      <td>0.00</td>\n",
       "      <td>0.0</td>\n",
       "      <td>0.00</td>\n",
       "      <td>0.00</td>\n",
       "      <td>0.00</td>\n",
       "      <td>0.00</td>\n",
       "      <td>0.00</td>\n",
       "      <td>0.00</td>\n",
       "      <td>...</td>\n",
       "      <td>0.000</td>\n",
       "      <td>0.000</td>\n",
       "      <td>0.0</td>\n",
       "      <td>0.000</td>\n",
       "      <td>0.000</td>\n",
       "      <td>0.00</td>\n",
       "      <td>1.000</td>\n",
       "      <td>1</td>\n",
       "      <td>3</td>\n",
       "      <td>ham</td>\n",
       "    </tr>\n",
       "    <tr>\n",
       "      <th>4599</th>\n",
       "      <td>0.00</td>\n",
       "      <td>0.00</td>\n",
       "      <td>0.00</td>\n",
       "      <td>0.0</td>\n",
       "      <td>0.00</td>\n",
       "      <td>0.00</td>\n",
       "      <td>0.00</td>\n",
       "      <td>0.00</td>\n",
       "      <td>0.00</td>\n",
       "      <td>0.00</td>\n",
       "      <td>...</td>\n",
       "      <td>0.000</td>\n",
       "      <td>0.218</td>\n",
       "      <td>0.0</td>\n",
       "      <td>0.218</td>\n",
       "      <td>0.000</td>\n",
       "      <td>0.00</td>\n",
       "      <td>1.687</td>\n",
       "      <td>10</td>\n",
       "      <td>27</td>\n",
       "      <td>ham</td>\n",
       "    </tr>\n",
       "    <tr>\n",
       "      <th>4600</th>\n",
       "      <td>0.13</td>\n",
       "      <td>0.26</td>\n",
       "      <td>0.52</td>\n",
       "      <td>0.0</td>\n",
       "      <td>0.26</td>\n",
       "      <td>0.00</td>\n",
       "      <td>0.13</td>\n",
       "      <td>0.00</td>\n",
       "      <td>0.00</td>\n",
       "      <td>0.39</td>\n",
       "      <td>...</td>\n",
       "      <td>0.000</td>\n",
       "      <td>0.000</td>\n",
       "      <td>0.0</td>\n",
       "      <td>0.366</td>\n",
       "      <td>0.000</td>\n",
       "      <td>0.04</td>\n",
       "      <td>7.138</td>\n",
       "      <td>149</td>\n",
       "      <td>1235</td>\n",
       "      <td>spam</td>\n",
       "    </tr>\n",
       "  </tbody>\n",
       "</table>\n",
       "<p>4601 rows × 58 columns</p>\n",
       "</div>"
      ],
      "text/plain": [
       "      make  address   all   3d   our  over  remove  internet  order  mail  \\\n",
       "0     0.00     0.00  0.29  0.0  0.00  0.00    0.00      0.00   0.00  0.00   \n",
       "1     0.46     0.00  0.00  0.0  0.00  0.00    0.00      0.00   0.00  0.00   \n",
       "2     0.00     0.00  0.00  0.0  0.00  0.00    0.00      0.00   0.00  0.00   \n",
       "3     0.33     0.44  0.37  0.0  0.14  0.11    0.00      0.07   0.97  1.16   \n",
       "4     0.00     2.08  0.00  0.0  3.12  0.00    1.04      0.00   0.00  0.00   \n",
       "...    ...      ...   ...  ...   ...   ...     ...       ...    ...   ...   \n",
       "4596  0.00     0.00  0.53  0.0  0.00  0.53    0.00      0.00   0.00  0.53   \n",
       "4597  0.00     0.00  0.00  0.0  0.00  0.00    0.00      0.00   0.00  0.00   \n",
       "4598  0.00     0.00  0.00  0.0  0.00  0.00    0.00      0.00   0.00  0.00   \n",
       "4599  0.00     0.00  0.00  0.0  0.00  0.00    0.00      0.00   0.00  0.00   \n",
       "4600  0.13     0.26  0.52  0.0  0.26  0.00    0.13      0.00   0.00  0.39   \n",
       "\n",
       "      ...  semicol  paren  bracket   bang  dollar  pound  cap_avg  cap_long  \\\n",
       "0     ...    0.000  0.178      0.0  0.044   0.000   0.00    1.666        10   \n",
       "1     ...    0.000  0.125      0.0  0.000   0.000   0.00    1.510        10   \n",
       "2     ...    0.000  0.000      0.0  0.000   0.000   0.00    1.718        11   \n",
       "3     ...    0.006  0.159      0.0  0.069   0.221   0.11    3.426        72   \n",
       "4     ...    0.000  0.000      0.0  0.263   0.000   0.00    1.428         4   \n",
       "...   ...      ...    ...      ...    ...     ...    ...      ...       ...   \n",
       "4596  ...    0.000  0.101      0.0  0.000   0.000   0.00    1.857        16   \n",
       "4597  ...    0.000  0.443      0.0  0.221   0.665   0.00    3.812        15   \n",
       "4598  ...    0.000  0.000      0.0  0.000   0.000   0.00    1.000         1   \n",
       "4599  ...    0.000  0.218      0.0  0.218   0.000   0.00    1.687        10   \n",
       "4600  ...    0.000  0.000      0.0  0.366   0.000   0.04    7.138       149   \n",
       "\n",
       "      cap_total  Class  \n",
       "0           180    ham  \n",
       "1            74    ham  \n",
       "2            55    ham  \n",
       "3           819   spam  \n",
       "4            20   spam  \n",
       "...         ...    ...  \n",
       "4596         52    ham  \n",
       "4597         61   spam  \n",
       "4598          3    ham  \n",
       "4599         27    ham  \n",
       "4600       1235   spam  \n",
       "\n",
       "[4601 rows x 58 columns]"
      ]
     },
     "execution_count": 65,
     "metadata": {},
     "output_type": "execute_result"
    }
   ],
   "source": [
    "original_spam_df"
   ]
  },
  {
   "cell_type": "code",
   "execution_count": 66,
   "metadata": {},
   "outputs": [
    {
     "data": {
      "text/plain": [
       "(4601, 58)"
      ]
     },
     "execution_count": 66,
     "metadata": {},
     "output_type": "execute_result"
    }
   ],
   "source": [
    "original_spam_df.shape"
   ]
  },
  {
   "cell_type": "code",
   "execution_count": 67,
   "metadata": {},
   "outputs": [
    {
     "data": {
      "text/html": [
       "<div>\n",
       "<style scoped>\n",
       "    .dataframe tbody tr th:only-of-type {\n",
       "        vertical-align: middle;\n",
       "    }\n",
       "\n",
       "    .dataframe tbody tr th {\n",
       "        vertical-align: top;\n",
       "    }\n",
       "\n",
       "    .dataframe thead th {\n",
       "        text-align: right;\n",
       "    }\n",
       "</style>\n",
       "<table border=\"1\" class=\"dataframe\">\n",
       "  <thead>\n",
       "    <tr style=\"text-align: right;\">\n",
       "      <th></th>\n",
       "      <th>make</th>\n",
       "      <th>address</th>\n",
       "      <th>all</th>\n",
       "      <th>3d</th>\n",
       "      <th>our</th>\n",
       "      <th>over</th>\n",
       "      <th>remove</th>\n",
       "      <th>internet</th>\n",
       "      <th>order</th>\n",
       "      <th>mail</th>\n",
       "      <th>...</th>\n",
       "      <th>conference</th>\n",
       "      <th>semicol</th>\n",
       "      <th>paren</th>\n",
       "      <th>bracket</th>\n",
       "      <th>bang</th>\n",
       "      <th>dollar</th>\n",
       "      <th>pound</th>\n",
       "      <th>cap_avg</th>\n",
       "      <th>cap_long</th>\n",
       "      <th>cap_total</th>\n",
       "    </tr>\n",
       "  </thead>\n",
       "  <tbody>\n",
       "    <tr>\n",
       "      <th>count</th>\n",
       "      <td>4601.000000</td>\n",
       "      <td>4601.000000</td>\n",
       "      <td>4601.000000</td>\n",
       "      <td>4601.000000</td>\n",
       "      <td>4601.000000</td>\n",
       "      <td>4601.000000</td>\n",
       "      <td>4601.000000</td>\n",
       "      <td>4601.000000</td>\n",
       "      <td>4601.000000</td>\n",
       "      <td>4601.000000</td>\n",
       "      <td>...</td>\n",
       "      <td>4601.000000</td>\n",
       "      <td>4601.000000</td>\n",
       "      <td>4601.000000</td>\n",
       "      <td>4601.000000</td>\n",
       "      <td>4601.000000</td>\n",
       "      <td>4601.000000</td>\n",
       "      <td>4601.000000</td>\n",
       "      <td>4601.000000</td>\n",
       "      <td>4601.000000</td>\n",
       "      <td>4601.000000</td>\n",
       "    </tr>\n",
       "    <tr>\n",
       "      <th>mean</th>\n",
       "      <td>0.104553</td>\n",
       "      <td>0.213015</td>\n",
       "      <td>0.280656</td>\n",
       "      <td>0.065425</td>\n",
       "      <td>0.312223</td>\n",
       "      <td>0.095901</td>\n",
       "      <td>0.114208</td>\n",
       "      <td>0.105295</td>\n",
       "      <td>0.090067</td>\n",
       "      <td>0.239413</td>\n",
       "      <td>...</td>\n",
       "      <td>0.031869</td>\n",
       "      <td>0.038575</td>\n",
       "      <td>0.139030</td>\n",
       "      <td>0.016976</td>\n",
       "      <td>0.269071</td>\n",
       "      <td>0.075811</td>\n",
       "      <td>0.044238</td>\n",
       "      <td>5.191515</td>\n",
       "      <td>52.172789</td>\n",
       "      <td>283.289285</td>\n",
       "    </tr>\n",
       "    <tr>\n",
       "      <th>std</th>\n",
       "      <td>0.305358</td>\n",
       "      <td>1.290575</td>\n",
       "      <td>0.504143</td>\n",
       "      <td>1.395151</td>\n",
       "      <td>0.672513</td>\n",
       "      <td>0.273824</td>\n",
       "      <td>0.391441</td>\n",
       "      <td>0.401071</td>\n",
       "      <td>0.278616</td>\n",
       "      <td>0.644755</td>\n",
       "      <td>...</td>\n",
       "      <td>0.285735</td>\n",
       "      <td>0.243471</td>\n",
       "      <td>0.270355</td>\n",
       "      <td>0.109394</td>\n",
       "      <td>0.815672</td>\n",
       "      <td>0.245882</td>\n",
       "      <td>0.429342</td>\n",
       "      <td>31.729449</td>\n",
       "      <td>194.891310</td>\n",
       "      <td>606.347851</td>\n",
       "    </tr>\n",
       "    <tr>\n",
       "      <th>min</th>\n",
       "      <td>0.000000</td>\n",
       "      <td>0.000000</td>\n",
       "      <td>0.000000</td>\n",
       "      <td>0.000000</td>\n",
       "      <td>0.000000</td>\n",
       "      <td>0.000000</td>\n",
       "      <td>0.000000</td>\n",
       "      <td>0.000000</td>\n",
       "      <td>0.000000</td>\n",
       "      <td>0.000000</td>\n",
       "      <td>...</td>\n",
       "      <td>0.000000</td>\n",
       "      <td>0.000000</td>\n",
       "      <td>0.000000</td>\n",
       "      <td>0.000000</td>\n",
       "      <td>0.000000</td>\n",
       "      <td>0.000000</td>\n",
       "      <td>0.000000</td>\n",
       "      <td>1.000000</td>\n",
       "      <td>1.000000</td>\n",
       "      <td>1.000000</td>\n",
       "    </tr>\n",
       "    <tr>\n",
       "      <th>25%</th>\n",
       "      <td>0.000000</td>\n",
       "      <td>0.000000</td>\n",
       "      <td>0.000000</td>\n",
       "      <td>0.000000</td>\n",
       "      <td>0.000000</td>\n",
       "      <td>0.000000</td>\n",
       "      <td>0.000000</td>\n",
       "      <td>0.000000</td>\n",
       "      <td>0.000000</td>\n",
       "      <td>0.000000</td>\n",
       "      <td>...</td>\n",
       "      <td>0.000000</td>\n",
       "      <td>0.000000</td>\n",
       "      <td>0.000000</td>\n",
       "      <td>0.000000</td>\n",
       "      <td>0.000000</td>\n",
       "      <td>0.000000</td>\n",
       "      <td>0.000000</td>\n",
       "      <td>1.588000</td>\n",
       "      <td>6.000000</td>\n",
       "      <td>35.000000</td>\n",
       "    </tr>\n",
       "    <tr>\n",
       "      <th>50%</th>\n",
       "      <td>0.000000</td>\n",
       "      <td>0.000000</td>\n",
       "      <td>0.000000</td>\n",
       "      <td>0.000000</td>\n",
       "      <td>0.000000</td>\n",
       "      <td>0.000000</td>\n",
       "      <td>0.000000</td>\n",
       "      <td>0.000000</td>\n",
       "      <td>0.000000</td>\n",
       "      <td>0.000000</td>\n",
       "      <td>...</td>\n",
       "      <td>0.000000</td>\n",
       "      <td>0.000000</td>\n",
       "      <td>0.065000</td>\n",
       "      <td>0.000000</td>\n",
       "      <td>0.000000</td>\n",
       "      <td>0.000000</td>\n",
       "      <td>0.000000</td>\n",
       "      <td>2.276000</td>\n",
       "      <td>15.000000</td>\n",
       "      <td>95.000000</td>\n",
       "    </tr>\n",
       "    <tr>\n",
       "      <th>75%</th>\n",
       "      <td>0.000000</td>\n",
       "      <td>0.000000</td>\n",
       "      <td>0.420000</td>\n",
       "      <td>0.000000</td>\n",
       "      <td>0.380000</td>\n",
       "      <td>0.000000</td>\n",
       "      <td>0.000000</td>\n",
       "      <td>0.000000</td>\n",
       "      <td>0.000000</td>\n",
       "      <td>0.160000</td>\n",
       "      <td>...</td>\n",
       "      <td>0.000000</td>\n",
       "      <td>0.000000</td>\n",
       "      <td>0.188000</td>\n",
       "      <td>0.000000</td>\n",
       "      <td>0.315000</td>\n",
       "      <td>0.052000</td>\n",
       "      <td>0.000000</td>\n",
       "      <td>3.706000</td>\n",
       "      <td>43.000000</td>\n",
       "      <td>266.000000</td>\n",
       "    </tr>\n",
       "    <tr>\n",
       "      <th>max</th>\n",
       "      <td>4.540000</td>\n",
       "      <td>14.280000</td>\n",
       "      <td>5.100000</td>\n",
       "      <td>42.810000</td>\n",
       "      <td>10.000000</td>\n",
       "      <td>5.880000</td>\n",
       "      <td>7.270000</td>\n",
       "      <td>11.110000</td>\n",
       "      <td>5.260000</td>\n",
       "      <td>18.180000</td>\n",
       "      <td>...</td>\n",
       "      <td>10.000000</td>\n",
       "      <td>4.385000</td>\n",
       "      <td>9.752000</td>\n",
       "      <td>4.081000</td>\n",
       "      <td>32.478000</td>\n",
       "      <td>6.003000</td>\n",
       "      <td>19.829000</td>\n",
       "      <td>1102.500000</td>\n",
       "      <td>9989.000000</td>\n",
       "      <td>15841.000000</td>\n",
       "    </tr>\n",
       "  </tbody>\n",
       "</table>\n",
       "<p>8 rows × 57 columns</p>\n",
       "</div>"
      ],
      "text/plain": [
       "              make      address          all           3d          our  \\\n",
       "count  4601.000000  4601.000000  4601.000000  4601.000000  4601.000000   \n",
       "mean      0.104553     0.213015     0.280656     0.065425     0.312223   \n",
       "std       0.305358     1.290575     0.504143     1.395151     0.672513   \n",
       "min       0.000000     0.000000     0.000000     0.000000     0.000000   \n",
       "25%       0.000000     0.000000     0.000000     0.000000     0.000000   \n",
       "50%       0.000000     0.000000     0.000000     0.000000     0.000000   \n",
       "75%       0.000000     0.000000     0.420000     0.000000     0.380000   \n",
       "max       4.540000    14.280000     5.100000    42.810000    10.000000   \n",
       "\n",
       "              over       remove     internet        order         mail  ...  \\\n",
       "count  4601.000000  4601.000000  4601.000000  4601.000000  4601.000000  ...   \n",
       "mean      0.095901     0.114208     0.105295     0.090067     0.239413  ...   \n",
       "std       0.273824     0.391441     0.401071     0.278616     0.644755  ...   \n",
       "min       0.000000     0.000000     0.000000     0.000000     0.000000  ...   \n",
       "25%       0.000000     0.000000     0.000000     0.000000     0.000000  ...   \n",
       "50%       0.000000     0.000000     0.000000     0.000000     0.000000  ...   \n",
       "75%       0.000000     0.000000     0.000000     0.000000     0.160000  ...   \n",
       "max       5.880000     7.270000    11.110000     5.260000    18.180000  ...   \n",
       "\n",
       "        conference      semicol        paren      bracket         bang  \\\n",
       "count  4601.000000  4601.000000  4601.000000  4601.000000  4601.000000   \n",
       "mean      0.031869     0.038575     0.139030     0.016976     0.269071   \n",
       "std       0.285735     0.243471     0.270355     0.109394     0.815672   \n",
       "min       0.000000     0.000000     0.000000     0.000000     0.000000   \n",
       "25%       0.000000     0.000000     0.000000     0.000000     0.000000   \n",
       "50%       0.000000     0.000000     0.065000     0.000000     0.000000   \n",
       "75%       0.000000     0.000000     0.188000     0.000000     0.315000   \n",
       "max      10.000000     4.385000     9.752000     4.081000    32.478000   \n",
       "\n",
       "            dollar        pound      cap_avg     cap_long     cap_total  \n",
       "count  4601.000000  4601.000000  4601.000000  4601.000000   4601.000000  \n",
       "mean      0.075811     0.044238     5.191515    52.172789    283.289285  \n",
       "std       0.245882     0.429342    31.729449   194.891310    606.347851  \n",
       "min       0.000000     0.000000     1.000000     1.000000      1.000000  \n",
       "25%       0.000000     0.000000     1.588000     6.000000     35.000000  \n",
       "50%       0.000000     0.000000     2.276000    15.000000     95.000000  \n",
       "75%       0.052000     0.000000     3.706000    43.000000    266.000000  \n",
       "max       6.003000    19.829000  1102.500000  9989.000000  15841.000000  \n",
       "\n",
       "[8 rows x 57 columns]"
      ]
     },
     "execution_count": 67,
     "metadata": {},
     "output_type": "execute_result"
    }
   ],
   "source": [
    "original_spam_df.describe()"
   ]
  },
  {
   "cell_type": "code",
   "execution_count": 68,
   "metadata": {},
   "outputs": [
    {
     "data": {
      "text/plain": [
       "array(['ham', 'spam'], dtype=object)"
      ]
     },
     "execution_count": 68,
     "metadata": {},
     "output_type": "execute_result"
    }
   ],
   "source": [
    "original_spam_df[\"Class\"].unique()"
   ]
  },
  {
   "attachments": {},
   "cell_type": "markdown",
   "metadata": {},
   "source": [
    "Indicates this is a Binary Classification Problem ^"
   ]
  },
  {
   "cell_type": "code",
   "execution_count": 69,
   "metadata": {},
   "outputs": [
    {
     "data": {
      "text/plain": [
       "Index(['make', 'address', 'all', '3d', 'our', 'over', 'remove', 'internet',\n",
       "       'order', 'mail', 'receive', 'will', 'people', 'report', 'addresses',\n",
       "       'free', 'business', 'email', 'you', 'credit', 'your', 'font', '0',\n",
       "       'money', 'hp', 'hpl', 'george', '650', 'lab', 'labs', 'telnet', '857',\n",
       "       'data', '415', '85', 'technology', '1999', 'parts', 'pm', 'direct',\n",
       "       'cs', 'meeting', 'original', 'project', 're', 'edu', 'table',\n",
       "       'conference', 'semicol', 'paren', 'bracket', 'bang', 'dollar', 'pound',\n",
       "       'cap_avg', 'cap_long', 'cap_total'],\n",
       "      dtype='object')"
      ]
     },
     "execution_count": 69,
     "metadata": {},
     "output_type": "execute_result"
    }
   ],
   "source": [
    "non_class_features = original_spam_df.columns.delete(-1)\n",
    "non_class_features"
   ]
  },
  {
   "cell_type": "code",
   "execution_count": 70,
   "metadata": {},
   "outputs": [],
   "source": [
    "spam_training_set, spam_test_set = train_test_split(original_spam_df, test_size=0.7826559, random_state=99)"
   ]
  },
  {
   "cell_type": "code",
   "execution_count": 71,
   "metadata": {},
   "outputs": [],
   "source": [
    "spam_training_data, spam_training_target = spam_training_set[non_class_features], spam_training_set['Class']\n",
    "spam_test_data, spam_test_target = spam_test_set[non_class_features], spam_test_set['Class']"
   ]
  },
  {
   "cell_type": "code",
   "execution_count": 72,
   "metadata": {},
   "outputs": [
    {
     "name": "stdout",
     "output_type": "stream",
     "text": [
      "spam_training_data.shape = (1000, 57)\n",
      "spam_test_data.shape = (3601, 57)\n"
     ]
    }
   ],
   "source": [
    "print(f'{spam_training_data.shape = }\\n{spam_test_data.shape = }')"
   ]
  },
  {
   "cell_type": "code",
   "execution_count": 73,
   "metadata": {},
   "outputs": [
    {
     "data": {
      "text/html": [
       "<div>\n",
       "<style scoped>\n",
       "    .dataframe tbody tr th:only-of-type {\n",
       "        vertical-align: middle;\n",
       "    }\n",
       "\n",
       "    .dataframe tbody tr th {\n",
       "        vertical-align: top;\n",
       "    }\n",
       "\n",
       "    .dataframe thead th {\n",
       "        text-align: right;\n",
       "    }\n",
       "</style>\n",
       "<table border=\"1\" class=\"dataframe\">\n",
       "  <thead>\n",
       "    <tr style=\"text-align: right;\">\n",
       "      <th></th>\n",
       "      <th>make</th>\n",
       "      <th>address</th>\n",
       "      <th>all</th>\n",
       "      <th>3d</th>\n",
       "      <th>our</th>\n",
       "      <th>over</th>\n",
       "      <th>remove</th>\n",
       "      <th>internet</th>\n",
       "      <th>order</th>\n",
       "      <th>mail</th>\n",
       "      <th>...</th>\n",
       "      <th>conference</th>\n",
       "      <th>semicol</th>\n",
       "      <th>paren</th>\n",
       "      <th>bracket</th>\n",
       "      <th>bang</th>\n",
       "      <th>dollar</th>\n",
       "      <th>pound</th>\n",
       "      <th>cap_avg</th>\n",
       "      <th>cap_long</th>\n",
       "      <th>cap_total</th>\n",
       "    </tr>\n",
       "  </thead>\n",
       "  <tbody>\n",
       "    <tr>\n",
       "      <th>466</th>\n",
       "      <td>0.00</td>\n",
       "      <td>0.0</td>\n",
       "      <td>0.87</td>\n",
       "      <td>0.0</td>\n",
       "      <td>0.00</td>\n",
       "      <td>0.0</td>\n",
       "      <td>0.00</td>\n",
       "      <td>0.0</td>\n",
       "      <td>0.00</td>\n",
       "      <td>0.87</td>\n",
       "      <td>...</td>\n",
       "      <td>0.0</td>\n",
       "      <td>0.0</td>\n",
       "      <td>0.608</td>\n",
       "      <td>0.0</td>\n",
       "      <td>0.000</td>\n",
       "      <td>0.000</td>\n",
       "      <td>0.0</td>\n",
       "      <td>2.941</td>\n",
       "      <td>11</td>\n",
       "      <td>100</td>\n",
       "    </tr>\n",
       "    <tr>\n",
       "      <th>1663</th>\n",
       "      <td>0.00</td>\n",
       "      <td>0.0</td>\n",
       "      <td>0.44</td>\n",
       "      <td>0.0</td>\n",
       "      <td>1.32</td>\n",
       "      <td>0.0</td>\n",
       "      <td>0.44</td>\n",
       "      <td>0.0</td>\n",
       "      <td>0.00</td>\n",
       "      <td>1.32</td>\n",
       "      <td>...</td>\n",
       "      <td>0.0</td>\n",
       "      <td>0.0</td>\n",
       "      <td>0.301</td>\n",
       "      <td>0.0</td>\n",
       "      <td>0.301</td>\n",
       "      <td>0.000</td>\n",
       "      <td>0.0</td>\n",
       "      <td>2.787</td>\n",
       "      <td>19</td>\n",
       "      <td>131</td>\n",
       "    </tr>\n",
       "    <tr>\n",
       "      <th>46</th>\n",
       "      <td>0.00</td>\n",
       "      <td>0.0</td>\n",
       "      <td>1.58</td>\n",
       "      <td>0.0</td>\n",
       "      <td>0.00</td>\n",
       "      <td>0.0</td>\n",
       "      <td>0.00</td>\n",
       "      <td>0.0</td>\n",
       "      <td>0.00</td>\n",
       "      <td>0.00</td>\n",
       "      <td>...</td>\n",
       "      <td>0.0</td>\n",
       "      <td>0.0</td>\n",
       "      <td>0.149</td>\n",
       "      <td>0.0</td>\n",
       "      <td>0.149</td>\n",
       "      <td>0.000</td>\n",
       "      <td>0.0</td>\n",
       "      <td>1.482</td>\n",
       "      <td>10</td>\n",
       "      <td>43</td>\n",
       "    </tr>\n",
       "    <tr>\n",
       "      <th>3499</th>\n",
       "      <td>0.33</td>\n",
       "      <td>0.0</td>\n",
       "      <td>1.65</td>\n",
       "      <td>0.0</td>\n",
       "      <td>0.99</td>\n",
       "      <td>0.0</td>\n",
       "      <td>0.33</td>\n",
       "      <td>0.0</td>\n",
       "      <td>0.66</td>\n",
       "      <td>1.32</td>\n",
       "      <td>...</td>\n",
       "      <td>0.0</td>\n",
       "      <td>0.0</td>\n",
       "      <td>0.000</td>\n",
       "      <td>0.0</td>\n",
       "      <td>0.859</td>\n",
       "      <td>0.101</td>\n",
       "      <td>0.0</td>\n",
       "      <td>337.250</td>\n",
       "      <td>1146</td>\n",
       "      <td>1349</td>\n",
       "    </tr>\n",
       "    <tr>\n",
       "      <th>1163</th>\n",
       "      <td>0.00</td>\n",
       "      <td>0.0</td>\n",
       "      <td>0.31</td>\n",
       "      <td>0.0</td>\n",
       "      <td>0.00</td>\n",
       "      <td>0.0</td>\n",
       "      <td>0.00</td>\n",
       "      <td>0.0</td>\n",
       "      <td>0.00</td>\n",
       "      <td>0.00</td>\n",
       "      <td>...</td>\n",
       "      <td>0.0</td>\n",
       "      <td>0.0</td>\n",
       "      <td>0.588</td>\n",
       "      <td>0.0</td>\n",
       "      <td>0.000</td>\n",
       "      <td>0.000</td>\n",
       "      <td>0.0</td>\n",
       "      <td>3.183</td>\n",
       "      <td>55</td>\n",
       "      <td>191</td>\n",
       "    </tr>\n",
       "  </tbody>\n",
       "</table>\n",
       "<p>5 rows × 57 columns</p>\n",
       "</div>"
      ],
      "text/plain": [
       "      make  address   all   3d   our  over  remove  internet  order  mail  \\\n",
       "466   0.00      0.0  0.87  0.0  0.00   0.0    0.00       0.0   0.00  0.87   \n",
       "1663  0.00      0.0  0.44  0.0  1.32   0.0    0.44       0.0   0.00  1.32   \n",
       "46    0.00      0.0  1.58  0.0  0.00   0.0    0.00       0.0   0.00  0.00   \n",
       "3499  0.33      0.0  1.65  0.0  0.99   0.0    0.33       0.0   0.66  1.32   \n",
       "1163  0.00      0.0  0.31  0.0  0.00   0.0    0.00       0.0   0.00  0.00   \n",
       "\n",
       "      ...  conference  semicol  paren  bracket   bang  dollar  pound  cap_avg  \\\n",
       "466   ...         0.0      0.0  0.608      0.0  0.000   0.000    0.0    2.941   \n",
       "1663  ...         0.0      0.0  0.301      0.0  0.301   0.000    0.0    2.787   \n",
       "46    ...         0.0      0.0  0.149      0.0  0.149   0.000    0.0    1.482   \n",
       "3499  ...         0.0      0.0  0.000      0.0  0.859   0.101    0.0  337.250   \n",
       "1163  ...         0.0      0.0  0.588      0.0  0.000   0.000    0.0    3.183   \n",
       "\n",
       "      cap_long  cap_total  \n",
       "466         11        100  \n",
       "1663        19        131  \n",
       "46          10         43  \n",
       "3499      1146       1349  \n",
       "1163        55        191  \n",
       "\n",
       "[5 rows x 57 columns]"
      ]
     },
     "execution_count": 73,
     "metadata": {},
     "output_type": "execute_result"
    }
   ],
   "source": [
    "spam_training_data.head()\n",
    "#spam_training_target.head()\n",
    "#spam_test_data.head()\n",
    "#spam_test_target.head()"
   ]
  },
  {
   "cell_type": "code",
   "execution_count": 74,
   "metadata": {},
   "outputs": [],
   "source": [
    "def rate_classifier(test_target_data, test_target_predict):\n",
    "    cm = confusion_matrix(test_target_data, test_target_predict)\n",
    "\n",
    "    terminology = ['True Negative', 'False Positive', 'False Negative', 'True Positive']\n",
    "    counts = [\"{0:0.0f}\".format(value) for value in cm.flatten()]\n",
    "    percentages = [\"{0:0.2%}\".format(value) for value in cm.flatten()/np.sum(cm)]\n",
    "    labels = [f\"{v1}\\n{v2}\\n{v3}\" for v1, v2, v3 in zip(terminology, counts, percentages)]\n",
    "    labels = np.asarray(labels).reshape(2,2)\n",
    "\n",
    "    plt.figure(figsize=(10,7))\n",
    "    sb.heatmap(cm/np.sum(cm), annot=labels, fmt='', cmap='Blues')\n",
    "    plt.xlabel('Prediction')\n",
    "    plt.ylabel('Truth')\n",
    "\n",
    "    print(\"Classification Report\\n\", classification_report(test_target_data, test_target_predict))\n",
    "\n",
    "    print(\"Accuracy Score\\n\", accuracy_score(test_target_data, test_target_predict))"
   ]
  },
  {
   "attachments": {},
   "cell_type": "markdown",
   "metadata": {},
   "source": [
    "## Fused Majority Voting Rule Classifier"
   ]
  },
  {
   "cell_type": "code",
   "execution_count": 75,
   "metadata": {},
   "outputs": [],
   "source": [
    "decision_tree_classifier = DecisionTreeClassifier().fit(spam_training_data, spam_training_target)\n",
    "gauss_nb_MJVT = GaussianNB().fit(spam_training_data, spam_training_target)\n",
    "# max_iter of 1191 required for Logistic Regression to Converge\n",
    "logistic_regression_MJVT = LogisticRegression(max_iter=1191).fit(spam_training_data, spam_training_target)"
   ]
  },
  {
   "cell_type": "code",
   "execution_count": 76,
   "metadata": {},
   "outputs": [],
   "source": [
    "majority_voting_classifier = VotingClassifier(estimators=[('DT', decision_tree_classifier), ('GNB', gauss_nb_MJVT), ('LR', logistic_regression_MJVT)], voting='hard')\n",
    "majority_voting_classifier = majority_voting_classifier.fit(spam_training_data, spam_training_target)\n",
    "majority_voting_classifier_predict = majority_voting_classifier.predict(spam_test_data)"
   ]
  },
  {
   "cell_type": "code",
   "execution_count": 77,
   "metadata": {},
   "outputs": [
    {
     "name": "stdout",
     "output_type": "stream",
     "text": [
      "Classification Report\n",
      "               precision    recall  f1-score   support\n",
      "\n",
      "         ham       0.94      0.94      0.94      2188\n",
      "        spam       0.90      0.90      0.90      1413\n",
      "\n",
      "    accuracy                           0.92      3601\n",
      "   macro avg       0.92      0.92      0.92      3601\n",
      "weighted avg       0.92      0.92      0.92      3601\n",
      "\n",
      "Accuracy Score\n",
      " 0.9239100249930575\n"
     ]
    },
    {
     "data": {
      "image/png": "[encoded data removed]",
      "text/plain": [
       "<Figure size 720x504 with 2 Axes>"
      ]
     },
     "metadata": {
      "needs_background": "light"
     },
     "output_type": "display_data"
    }
   ],
   "source": [
    "rate_classifier(spam_test_target, majority_voting_classifier_predict)"
   ]
  },
  {
   "attachments": {},
   "cell_type": "markdown",
   "metadata": {},
   "source": [
    "## Task 1 \n",
    "Compare the accuracies of the fused model with AdaBoost Ensemble with Decision Tree as the base learner. Train the classifiers using the first 1000 instances and use the remaining 3601 for testing. [25 points]"
   ]
  },
  {
   "cell_type": "code",
   "execution_count": 78,
   "metadata": {},
   "outputs": [],
   "source": [
    "ada_boost_classifier = AdaBoostClassifier(base_estimator=decision_tree_classifier).fit(spam_training_data, spam_training_target)\n",
    "ada_boost_classifier_predict = ada_boost_classifier.predict(spam_test_data)"
   ]
  },
  {
   "cell_type": "code",
   "execution_count": 79,
   "metadata": {},
   "outputs": [
    {
     "name": "stdout",
     "output_type": "stream",
     "text": [
      "Classification Report\n",
      "               precision    recall  f1-score   support\n",
      "\n",
      "         ham       0.91      0.91      0.91      2188\n",
      "        spam       0.86      0.85      0.86      1413\n",
      "\n",
      "    accuracy                           0.89      3601\n",
      "   macro avg       0.88      0.88      0.88      3601\n",
      "weighted avg       0.89      0.89      0.89      3601\n",
      "\n",
      "Accuracy Score\n",
      " 0.887531241321855\n"
     ]
    },
    {
     "data": {
      "image/png": "[encoded data removed]",
      "text/plain": [
       "<Figure size 720x504 with 2 Axes>"
      ]
     },
     "metadata": {
      "needs_background": "light"
     },
     "output_type": "display_data"
    }
   ],
   "source": [
    "rate_classifier(spam_test_target, ada_boost_classifier_predict)"
   ]
  },
  {
   "cell_type": "code",
   "execution_count": 80,
   "metadata": {},
   "outputs": [
    {
     "name": "stdout",
     "output_type": "stream",
     "text": [
      "Classification Report\n",
      "               precision    recall  f1-score   support\n",
      "\n",
      "         ham       0.94      0.94      0.94      2188\n",
      "        spam       0.90      0.90      0.90      1413\n",
      "\n",
      "    accuracy                           0.92      3601\n",
      "   macro avg       0.92      0.92      0.92      3601\n",
      "weighted avg       0.92      0.92      0.92      3601\n",
      "\n",
      "Accuracy Score\n",
      " 0.9239100249930575\n"
     ]
    },
    {
     "data": {
      "image/png": "[encoded data removed]",
      "text/plain": [
       "<Figure size 720x504 with 2 Axes>"
      ]
     },
     "metadata": {
      "needs_background": "light"
     },
     "output_type": "display_data"
    }
   ],
   "source": [
    "rate_classifier(spam_test_target, majority_voting_classifier_predict)"
   ]
  },
  {
   "attachments": {},
   "cell_type": "markdown",
   "metadata": {},
   "source": [
    "The Majority Voting Classifier performed better than the ADA_Boost Classifier, with a higher accuracy and lower False Positive/Negative Rate"
   ]
  },
  {
   "attachments": {},
   "cell_type": "markdown",
   "metadata": {},
   "source": [
    "## Task 2 \n",
    "Compare the accuracies of the fused model with Random Forest (with 1000 base learners). Train the classifiers using the first 1000 instances and use the remaining 3601 for testing. [25 points]"
   ]
  },
  {
   "cell_type": "code",
   "execution_count": 81,
   "metadata": {},
   "outputs": [],
   "source": [
    "random_forest_classifier = RandomForestClassifier(n_estimators=1000).fit(spam_training_data, spam_training_target)\n",
    "random_forest_classifier_predict = random_forest_classifier.predict(spam_test_data)"
   ]
  },
  {
   "cell_type": "code",
   "execution_count": 82,
   "metadata": {},
   "outputs": [
    {
     "name": "stdout",
     "output_type": "stream",
     "text": [
      "Classification Report\n",
      "               precision    recall  f1-score   support\n",
      "\n",
      "         ham       0.93      0.97      0.95      2188\n",
      "        spam       0.95      0.88      0.91      1413\n",
      "\n",
      "    accuracy                           0.93      3601\n",
      "   macro avg       0.94      0.93      0.93      3601\n",
      "weighted avg       0.93      0.93      0.93      3601\n",
      "\n",
      "Accuracy Score\n",
      " 0.9341849486253818\n"
     ]
    },
    {
     "data": {
      "image/png": "[encoded data removed]",
      "text/plain": [
       "<Figure size 720x504 with 2 Axes>"
      ]
     },
     "metadata": {
      "needs_background": "light"
     },
     "output_type": "display_data"
    }
   ],
   "source": [
    "rate_classifier(spam_test_target, random_forest_classifier_predict)"
   ]
  },
  {
   "cell_type": "code",
   "execution_count": 83,
   "metadata": {},
   "outputs": [
    {
     "name": "stdout",
     "output_type": "stream",
     "text": [
      "Classification Report\n",
      "               precision    recall  f1-score   support\n",
      "\n",
      "         ham       0.94      0.94      0.94      2188\n",
      "        spam       0.90      0.90      0.90      1413\n",
      "\n",
      "    accuracy                           0.92      3601\n",
      "   macro avg       0.92      0.92      0.92      3601\n",
      "weighted avg       0.92      0.92      0.92      3601\n",
      "\n",
      "Accuracy Score\n",
      " 0.9239100249930575\n"
     ]
    },
    {
     "data": {
      "image/png": "[encoded data removed]",
      "text/plain": [
       "<Figure size 720x504 with 2 Axes>"
      ]
     },
     "metadata": {
      "needs_background": "light"
     },
     "output_type": "display_data"
    }
   ],
   "source": [
    "rate_classifier(spam_test_target, majority_voting_classifier_predict)"
   ]
  },
  {
   "attachments": {},
   "cell_type": "markdown",
   "metadata": {},
   "source": [
    "The Random Forest Classifier performed better than the Majority Voting Classifier, with a higher accuracy and lower False Positive, however it had a higher False Negative Rate by 0.97%"
   ]
  },
  {
   "attachments": {},
   "cell_type": "markdown",
   "metadata": {},
   "source": [
    "## Task 3 \n",
    "Study the impact of training sample size on the accuracies of the fused classifier and the AdaBoost Ensemble with Decision Tree as the base learner. Compare their accuracies with the following training-test splits: \n",
    "* 50%-50%\n",
    "* 60%-40%\n",
    "* 70%-30%\n",
    "* 80%-20%\n",
    "* [50 points]"
   ]
  },
  {
   "attachments": {},
   "cell_type": "markdown",
   "metadata": {},
   "source": [
    "### Task 3.1\n",
    "* 50%-50% split"
   ]
  },
  {
   "attachments": {},
   "cell_type": "markdown",
   "metadata": {},
   "source": [
    "Majority Voting 50%-50%"
   ]
  },
  {
   "cell_type": "code",
   "execution_count": 84,
   "metadata": {},
   "outputs": [],
   "source": [
    "mv_50_50_train_set, mv_50_50_test_set = train_test_split(original_spam_df, test_size=0.50, random_state=99)"
   ]
  },
  {
   "cell_type": "code",
   "execution_count": 85,
   "metadata": {},
   "outputs": [],
   "source": [
    "mv_50_50_training_data, mv_50_50_training_target = mv_50_50_train_set[non_class_features], mv_50_50_train_set['Class']\n",
    "mv_50_50_test_data, mv_50_50_test_target = mv_50_50_test_set[non_class_features], mv_50_50_test_set['Class']"
   ]
  },
  {
   "cell_type": "code",
   "execution_count": 86,
   "metadata": {},
   "outputs": [
    {
     "name": "stdout",
     "output_type": "stream",
     "text": [
      "mv_50_50_training_data.shape = (2300, 57)\n",
      "mv_50_50_test_data.shape = (2301, 57)\n"
     ]
    }
   ],
   "source": [
    "print(f'{mv_50_50_training_data.shape = }\\n{mv_50_50_test_data.shape = }')"
   ]
  },
  {
   "cell_type": "code",
   "execution_count": 87,
   "metadata": {},
   "outputs": [],
   "source": [
    "decision_tree_mv_50_50 = DecisionTreeClassifier().fit(mv_50_50_training_data, mv_50_50_training_target)\n",
    "gauss_nb_mv_50_50 = GaussianNB().fit(mv_50_50_training_data, mv_50_50_training_target)\n",
    "logistic_regression_mv_50_50 = LogisticRegression(max_iter=5000).fit(mv_50_50_training_data, mv_50_50_training_target)"
   ]
  },
  {
   "cell_type": "code",
   "execution_count": 88,
   "metadata": {},
   "outputs": [],
   "source": [
    "mv_50_50_classifier = VotingClassifier(estimators=[('DT', decision_tree_mv_50_50), ('GNB', gauss_nb_mv_50_50), ('LR', logistic_regression_mv_50_50)], voting='hard')\n",
    "mv_50_50_classifier = mv_50_50_classifier.fit(mv_50_50_training_data, mv_50_50_training_target)\n",
    "mv_50_50_classifier_predict = mv_50_50_classifier.predict(mv_50_50_test_data)"
   ]
  },
  {
   "attachments": {},
   "cell_type": "markdown",
   "metadata": {},
   "source": [
    "ADA Boost 50%-50%"
   ]
  },
  {
   "cell_type": "code",
   "execution_count": 90,
   "metadata": {},
   "outputs": [],
   "source": [
    "ada_50_50_train_set, ada_50_50_test_set = train_test_split(original_spam_df, test_size=0.50, random_state=99)"
   ]
  },
  {
   "cell_type": "code",
   "execution_count": 91,
   "metadata": {},
   "outputs": [],
   "source": [
    "ada_50_50_training_data, ada_50_50_training_target = ada_50_50_train_set[non_class_features], ada_50_50_train_set['Class']\n",
    "ada_50_50_test_data, ada_50_50_test_target = ada_50_50_test_set[non_class_features], ada_50_50_test_set['Class']"
   ]
  },
  {
   "cell_type": "code",
   "execution_count": 92,
   "metadata": {},
   "outputs": [
    {
     "name": "stdout",
     "output_type": "stream",
     "text": [
      "ada_50_50_training_data.shape = (2300, 57)\n",
      "ada_50_50_test_data.shape = (2301, 57)\n"
     ]
    }
   ],
   "source": [
    "print(f'{ada_50_50_training_data.shape = }\\n{ada_50_50_test_data.shape = }')"
   ]
  },
  {
   "cell_type": "code",
   "execution_count": 93,
   "metadata": {},
   "outputs": [],
   "source": [
    "ada_boost_50_50_classifier = AdaBoostClassifier(base_estimator=decision_tree_classifier).fit(ada_50_50_training_data, ada_50_50_training_target)\n",
    "ada_boost_50_50_classifier_predict = ada_boost_50_50_classifier.predict(ada_50_50_test_data)"
   ]
  },
  {
   "attachments": {},
   "cell_type": "markdown",
   "metadata": {},
   "source": [
    "#### 50%-50% split Comparision:\n",
    "* Majority Voting [(1) Decision Tree, (2) Gaussian Naïve Bayes, and (3) Logistic Regression]\n",
    "* ADA Boost [Decision Tree]"
   ]
  },
  {
   "cell_type": "code",
   "execution_count": 134,
   "metadata": {},
   "outputs": [
    {
     "name": "stdout",
     "output_type": "stream",
     "text": [
      "Majority Voting 50%-50% Split\n",
      "Classification Report\n",
      "               precision    recall  f1-score   support\n",
      "\n",
      "         ham       0.94      0.93      0.94      1380\n",
      "        spam       0.90      0.91      0.91       921\n",
      "\n",
      "    accuracy                           0.92      2301\n",
      "   macro avg       0.92      0.92      0.92      2301\n",
      "weighted avg       0.92      0.92      0.92      2301\n",
      "\n",
      "Accuracy Score\n",
      " 0.9239461103867883\n"
     ]
    },
    {
     "data": {
      "image/png": "[encoded data removed]",
      "text/plain": [
       "<Figure size 720x504 with 2 Axes>"
      ]
     },
     "metadata": {
      "needs_background": "light"
     },
     "output_type": "display_data"
    }
   ],
   "source": [
    "print(\"Majority Voting 50%-50% Split\")\n",
    "rate_classifier(mv_50_50_test_target, mv_50_50_classifier_predict)"
   ]
  },
  {
   "cell_type": "code",
   "execution_count": 135,
   "metadata": {},
   "outputs": [
    {
     "name": "stdout",
     "output_type": "stream",
     "text": [
      "ADA Boost 50%-50% Split\n",
      "Classification Report\n",
      "               precision    recall  f1-score   support\n",
      "\n",
      "         ham       0.93      0.97      0.95      1380\n",
      "        spam       0.95      0.88      0.92       921\n",
      "\n",
      "    accuracy                           0.94      2301\n",
      "   macro avg       0.94      0.93      0.93      2301\n",
      "weighted avg       0.94      0.94      0.94      2301\n",
      "\n",
      "Accuracy Score\n",
      " 0.9356801390699696\n"
     ]
    },
    {
     "data": {
      "image/png": "[encoded data removed]",
      "text/plain": [
       "<Figure size 720x504 with 2 Axes>"
      ]
     },
     "metadata": {
      "needs_background": "light"
     },
     "output_type": "display_data"
    }
   ],
   "source": [
    "print(\"ADA Boost 50%-50% Split\")\n",
    "rate_classifier(ada_50_50_test_target, ada_boost_50_50_classifier_predict)"
   ]
  },
  {
   "attachments": {},
   "cell_type": "markdown",
   "metadata": {},
   "source": [
    "### Task 3.2\n",
    "* 60%-40% split"
   ]
  },
  {
   "attachments": {},
   "cell_type": "markdown",
   "metadata": {},
   "source": [
    "Majority Voting 60%-40%"
   ]
  },
  {
   "cell_type": "code",
   "execution_count": 95,
   "metadata": {},
   "outputs": [],
   "source": [
    "mv_60_40_train_set, mv_60_40_test_set = train_test_split(original_spam_df, test_size=0.40, random_state=99)"
   ]
  },
  {
   "cell_type": "code",
   "execution_count": 96,
   "metadata": {},
   "outputs": [],
   "source": [
    "mv_60_40_training_data, mv_60_40_training_target = mv_60_40_train_set[non_class_features], mv_60_40_train_set['Class']\n",
    "mv_60_40_test_data, mv_60_40_test_target = mv_60_40_test_set[non_class_features], mv_60_40_test_set['Class']"
   ]
  },
  {
   "cell_type": "code",
   "execution_count": 97,
   "metadata": {},
   "outputs": [
    {
     "name": "stdout",
     "output_type": "stream",
     "text": [
      "mv_60_40_training_data.shape = (2760, 57)\n",
      "mv_60_40_test_data.shape = (1841, 57)\n"
     ]
    }
   ],
   "source": [
    "print(f'{mv_60_40_training_data.shape = }\\n{mv_60_40_test_data.shape = }')"
   ]
  },
  {
   "cell_type": "code",
   "execution_count": 98,
   "metadata": {},
   "outputs": [],
   "source": [
    "decision_tree_mv_60_40 = DecisionTreeClassifier().fit(mv_60_40_training_data, mv_60_40_training_target)\n",
    "gauss_nb_mv_60_40 = GaussianNB().fit(mv_60_40_training_data, mv_60_40_training_target)\n",
    "logistic_regression_mv_60_40 = LogisticRegression(max_iter=5000).fit(mv_60_40_training_data, mv_60_40_training_target)"
   ]
  },
  {
   "cell_type": "code",
   "execution_count": 99,
   "metadata": {},
   "outputs": [],
   "source": [
    "mv_60_40_classifier = VotingClassifier(estimators=[('DT', decision_tree_mv_60_40), ('GNB', gauss_nb_mv_60_40), ('LR', logistic_regression_mv_60_40)], voting='hard')\n",
    "mv_60_40_classifier = mv_60_40_classifier.fit(mv_60_40_training_data, mv_60_40_training_target)\n",
    "mv_60_40_classifier_predict = mv_60_40_classifier.predict(mv_60_40_test_data)"
   ]
  },
  {
   "cell_type": "code",
   "execution_count": 100,
   "metadata": {},
   "outputs": [
    {
     "name": "stdout",
     "output_type": "stream",
     "text": [
      "Classification Report\n",
      "               precision    recall  f1-score   support\n",
      "\n",
      "         ham       0.95      0.93      0.94      1116\n",
      "        spam       0.90      0.92      0.91       725\n",
      "\n",
      "    accuracy                           0.93      1841\n",
      "   macro avg       0.92      0.93      0.92      1841\n",
      "weighted avg       0.93      0.93      0.93      1841\n",
      "\n",
      "Accuracy Score\n",
      " 0.9272134709397066\n"
     ]
    },
    {
     "data": {
      "image/png": "[encoded data removed]",
      "text/plain": [
       "<Figure size 720x504 with 2 Axes>"
      ]
     },
     "metadata": {
      "needs_background": "light"
     },
     "output_type": "display_data"
    }
   ],
   "source": [
    "rate_classifier(mv_60_40_test_target, mv_60_40_classifier_predict)"
   ]
  },
  {
   "attachments": {},
   "cell_type": "markdown",
   "metadata": {},
   "source": [
    "ADA Boost 60%-40%"
   ]
  },
  {
   "cell_type": "code",
   "execution_count": 101,
   "metadata": {},
   "outputs": [],
   "source": [
    "ada_60_40_train_set, ada_60_40_test_set = train_test_split(original_spam_df, test_size=0.40, random_state=99)"
   ]
  },
  {
   "cell_type": "code",
   "execution_count": 102,
   "metadata": {},
   "outputs": [],
   "source": [
    "ada_60_40_training_data, ada_60_40_training_target = ada_60_40_train_set[non_class_features], ada_60_40_train_set['Class']\n",
    "ada_60_40_test_data, ada_60_40_test_target = ada_60_40_test_set[non_class_features], ada_60_40_test_set['Class']"
   ]
  },
  {
   "cell_type": "code",
   "execution_count": 103,
   "metadata": {},
   "outputs": [
    {
     "name": "stdout",
     "output_type": "stream",
     "text": [
      "ada_60_40_training_data.shape = (2760, 57)\n",
      "ada_60_40_test_data.shape = (1841, 57)\n"
     ]
    }
   ],
   "source": [
    "print(f'{ada_60_40_training_data.shape = }\\n{ada_60_40_test_data.shape = }')"
   ]
  },
  {
   "cell_type": "code",
   "execution_count": 104,
   "metadata": {},
   "outputs": [],
   "source": [
    "ada_boost_60_40_classifier = AdaBoostClassifier(base_estimator=decision_tree_classifier).fit(ada_60_40_training_data, ada_60_40_training_target)\n",
    "ada_boost_60_40_classifier_predict = ada_boost_60_40_classifier.predict(ada_60_40_test_data)"
   ]
  },
  {
   "cell_type": "code",
   "execution_count": 105,
   "metadata": {},
   "outputs": [
    {
     "name": "stdout",
     "output_type": "stream",
     "text": [
      "Classification Report\n",
      "               precision    recall  f1-score   support\n",
      "\n",
      "         ham       0.94      0.97      0.96      1116\n",
      "        spam       0.96      0.91      0.93       725\n",
      "\n",
      "    accuracy                           0.95      1841\n",
      "   macro avg       0.95      0.94      0.95      1841\n",
      "weighted avg       0.95      0.95      0.95      1841\n",
      "\n",
      "Accuracy Score\n",
      " 0.9494839760999457\n"
     ]
    },
    {
     "data": {
      "image/png": "[encoded data removed]",
      "text/plain": [
       "<Figure size 720x504 with 2 Axes>"
      ]
     },
     "metadata": {
      "needs_background": "light"
     },
     "output_type": "display_data"
    }
   ],
   "source": [
    "rate_classifier(ada_60_40_test_target, ada_boost_60_40_classifier_predict)"
   ]
  },
  {
   "attachments": {},
   "cell_type": "markdown",
   "metadata": {},
   "source": [
    "#### 60%-40% split Comparision:\n",
    "* Majority Voting [(1) Decision Tree, (2) Gaussian Naïve Bayes, and (3) Logistic Regression]\n",
    "* ADA Boost [Decision Tree]"
   ]
  },
  {
   "cell_type": "code",
   "execution_count": 132,
   "metadata": {},
   "outputs": [
    {
     "name": "stdout",
     "output_type": "stream",
     "text": [
      "Majority Voting 60%-40% Split\n",
      "Classification Report\n",
      "               precision    recall  f1-score   support\n",
      "\n",
      "         ham       0.95      0.93      0.94      1116\n",
      "        spam       0.90      0.92      0.91       725\n",
      "\n",
      "    accuracy                           0.93      1841\n",
      "   macro avg       0.92      0.93      0.92      1841\n",
      "weighted avg       0.93      0.93      0.93      1841\n",
      "\n",
      "Accuracy Score\n",
      " 0.9272134709397066\n"
     ]
    },
    {
     "data": {
      "image/png": "[encoded data removed]",
      "text/plain": [
       "<Figure size 720x504 with 2 Axes>"
      ]
     },
     "metadata": {
      "needs_background": "light"
     },
     "output_type": "display_data"
    }
   ],
   "source": [
    "print(\"Majority Voting 60%-40% Split\")\n",
    "rate_classifier(mv_60_40_test_target, mv_60_40_classifier_predict)"
   ]
  },
  {
   "cell_type": "code",
   "execution_count": 133,
   "metadata": {},
   "outputs": [
    {
     "name": "stdout",
     "output_type": "stream",
     "text": [
      "ADA Boost 60%-40% Split\n",
      "Classification Report\n",
      "               precision    recall  f1-score   support\n",
      "\n",
      "         ham       0.94      0.97      0.96      1116\n",
      "        spam       0.96      0.91      0.93       725\n",
      "\n",
      "    accuracy                           0.95      1841\n",
      "   macro avg       0.95      0.94      0.95      1841\n",
      "weighted avg       0.95      0.95      0.95      1841\n",
      "\n",
      "Accuracy Score\n",
      " 0.9494839760999457\n"
     ]
    },
    {
     "data": {
      "image/png": "[encoded data removed]",
      "text/plain": [
       "<Figure size 720x504 with 2 Axes>"
      ]
     },
     "metadata": {
      "needs_background": "light"
     },
     "output_type": "display_data"
    }
   ],
   "source": [
    "print(\"ADA Boost 60%-40% Split\")\n",
    "rate_classifier(ada_60_40_test_target, ada_boost_60_40_classifier_predict)"
   ]
  },
  {
   "attachments": {},
   "cell_type": "markdown",
   "metadata": {},
   "source": [
    "### Task 3.3\n",
    "* 70%-30% split"
   ]
  },
  {
   "attachments": {},
   "cell_type": "markdown",
   "metadata": {},
   "source": [
    "Majority Voting 70%-70%"
   ]
  },
  {
   "cell_type": "code",
   "execution_count": 106,
   "metadata": {},
   "outputs": [],
   "source": [
    "mv_70_30_train_set, mv_70_30_test_set = train_test_split(original_spam_df, test_size=0.30, random_state=99)"
   ]
  },
  {
   "cell_type": "code",
   "execution_count": 107,
   "metadata": {},
   "outputs": [],
   "source": [
    "mv_70_30_training_data, mv_70_30_training_target = mv_70_30_train_set[non_class_features], mv_70_30_train_set['Class']\n",
    "mv_70_30_test_data, mv_70_30_test_target = mv_70_30_test_set[non_class_features], mv_70_30_test_set['Class']"
   ]
  },
  {
   "cell_type": "code",
   "execution_count": 108,
   "metadata": {},
   "outputs": [
    {
     "name": "stdout",
     "output_type": "stream",
     "text": [
      "mv_70_30_training_data.shape = (3220, 57)\n",
      "mv_70_30_test_data.shape = (1381, 57)\n"
     ]
    }
   ],
   "source": [
    "print(f'{mv_70_30_training_data.shape = }\\n{mv_70_30_test_data.shape = }')"
   ]
  },
  {
   "cell_type": "code",
   "execution_count": 109,
   "metadata": {},
   "outputs": [],
   "source": [
    "decision_tree_mv_70_30 = DecisionTreeClassifier().fit(mv_70_30_training_data, mv_70_30_training_target)\n",
    "gauss_nb_mv_70_30 = GaussianNB().fit(mv_70_30_training_data, mv_70_30_training_target)\n",
    "logistic_regression_mv_70_30 = LogisticRegression(max_iter=5000).fit(mv_70_30_training_data, mv_70_30_training_target)"
   ]
  },
  {
   "cell_type": "code",
   "execution_count": 110,
   "metadata": {},
   "outputs": [],
   "source": [
    "mv_70_30_classifier = VotingClassifier(estimators=[('DT', decision_tree_mv_70_30), ('GNB', gauss_nb_mv_70_30), ('LR', logistic_regression_mv_70_30)], voting='hard')\n",
    "mv_70_30_classifier = mv_70_30_classifier.fit(mv_70_30_training_data, mv_70_30_training_target)\n",
    "mv_70_30_classifier_predict = mv_70_30_classifier.predict(mv_70_30_test_data)"
   ]
  },
  {
   "cell_type": "code",
   "execution_count": 111,
   "metadata": {},
   "outputs": [
    {
     "name": "stdout",
     "output_type": "stream",
     "text": [
      "Classification Report\n",
      "               precision    recall  f1-score   support\n",
      "\n",
      "         ham       0.96      0.93      0.95       842\n",
      "        spam       0.90      0.94      0.92       539\n",
      "\n",
      "    accuracy                           0.94      1381\n",
      "   macro avg       0.93      0.94      0.93      1381\n",
      "weighted avg       0.94      0.94      0.94      1381\n",
      "\n",
      "Accuracy Score\n",
      " 0.9362780593772628\n"
     ]
    },
    {
     "data": {
      "image/png": "[encoded data removed]",
      "text/plain": [
       "<Figure size 720x504 with 2 Axes>"
      ]
     },
     "metadata": {
      "needs_background": "light"
     },
     "output_type": "display_data"
    }
   ],
   "source": [
    "rate_classifier(mv_70_30_test_target, mv_70_30_classifier_predict)"
   ]
  },
  {
   "attachments": {},
   "cell_type": "markdown",
   "metadata": {},
   "source": [
    "ADA Boost 70%-30%"
   ]
  },
  {
   "cell_type": "code",
   "execution_count": 112,
   "metadata": {},
   "outputs": [],
   "source": [
    "ada_70_30_train_set, ada_70_30_test_set = train_test_split(original_spam_df, test_size=0.30, random_state=99)"
   ]
  },
  {
   "cell_type": "code",
   "execution_count": 113,
   "metadata": {},
   "outputs": [],
   "source": [
    "ada_70_30_training_data, ada_70_30_training_target = ada_70_30_train_set[non_class_features], ada_70_30_train_set['Class']\n",
    "ada_70_30_test_data, ada_70_30_test_target = ada_70_30_test_set[non_class_features], ada_70_30_test_set['Class']"
   ]
  },
  {
   "cell_type": "code",
   "execution_count": 114,
   "metadata": {},
   "outputs": [
    {
     "name": "stdout",
     "output_type": "stream",
     "text": [
      "ada_70_30_training_data.shape = (3220, 57)\n",
      "ada_70_30_test_data.shape = (1381, 57)\n"
     ]
    }
   ],
   "source": [
    "print(f'{ada_70_30_training_data.shape = }\\n{ada_70_30_test_data.shape = }')"
   ]
  },
  {
   "cell_type": "code",
   "execution_count": 115,
   "metadata": {},
   "outputs": [],
   "source": [
    "ada_boost_70_30_classifier = AdaBoostClassifier(base_estimator=decision_tree_classifier).fit(ada_70_30_training_data, ada_70_30_training_target)\n",
    "ada_boost_70_30_classifier_predict = ada_boost_70_30_classifier.predict(ada_70_30_test_data)"
   ]
  },
  {
   "cell_type": "code",
   "execution_count": 116,
   "metadata": {},
   "outputs": [
    {
     "name": "stdout",
     "output_type": "stream",
     "text": [
      "Classification Report\n",
      "               precision    recall  f1-score   support\n",
      "\n",
      "         ham       0.96      0.97      0.96       842\n",
      "        spam       0.96      0.93      0.94       539\n",
      "\n",
      "    accuracy                           0.96      1381\n",
      "   macro avg       0.96      0.95      0.95      1381\n",
      "weighted avg       0.96      0.96      0.96      1381\n",
      "\n",
      "Accuracy Score\n",
      " 0.9558291093410572\n"
     ]
    },
    {
     "data": {
      "image/png": "[encoded data removed]",
      "text/plain": [
       "<Figure size 720x504 with 2 Axes>"
      ]
     },
     "metadata": {
      "needs_background": "light"
     },
     "output_type": "display_data"
    }
   ],
   "source": [
    "rate_classifier(ada_70_30_test_target, ada_boost_70_30_classifier_predict)"
   ]
  },
  {
   "attachments": {},
   "cell_type": "markdown",
   "metadata": {},
   "source": [
    "#### 70%-30% split Comparision:\n",
    "* Majority Voting [(1) Decision Tree, (2) Gaussian Naïve Bayes, and (3) Logistic Regression]\n",
    "* ADA Boost [Decision Tree]"
   ]
  },
  {
   "cell_type": "code",
   "execution_count": 130,
   "metadata": {},
   "outputs": [
    {
     "name": "stdout",
     "output_type": "stream",
     "text": [
      "Majority Voting 70%-30% Split\n",
      "Classification Report\n",
      "               precision    recall  f1-score   support\n",
      "\n",
      "         ham       0.96      0.93      0.95       842\n",
      "        spam       0.90      0.94      0.92       539\n",
      "\n",
      "    accuracy                           0.94      1381\n",
      "   macro avg       0.93      0.94      0.93      1381\n",
      "weighted avg       0.94      0.94      0.94      1381\n",
      "\n",
      "Accuracy Score\n",
      " 0.9362780593772628\n"
     ]
    },
    {
     "data": {
      "image/png": "[encoded data removed]",
      "text/plain": [
       "<Figure size 720x504 with 2 Axes>"
      ]
     },
     "metadata": {
      "needs_background": "light"
     },
     "output_type": "display_data"
    }
   ],
   "source": [
    "print(\"Majority Voting 70%-30% Split\")\n",
    "rate_classifier(mv_70_30_test_target, mv_70_30_classifier_predict)"
   ]
  },
  {
   "cell_type": "code",
   "execution_count": 131,
   "metadata": {},
   "outputs": [
    {
     "name": "stdout",
     "output_type": "stream",
     "text": [
      "ADA Boost 70%-30% Split\n",
      "Classification Report\n",
      "               precision    recall  f1-score   support\n",
      "\n",
      "         ham       0.96      0.97      0.96       842\n",
      "        spam       0.96      0.93      0.94       539\n",
      "\n",
      "    accuracy                           0.96      1381\n",
      "   macro avg       0.96      0.95      0.95      1381\n",
      "weighted avg       0.96      0.96      0.96      1381\n",
      "\n",
      "Accuracy Score\n",
      " 0.9558291093410572\n"
     ]
    },
    {
     "data": {
      "image/png": "[encoded data removed]",
      "text/plain": [
       "<Figure size 720x504 with 2 Axes>"
      ]
     },
     "metadata": {
      "needs_background": "light"
     },
     "output_type": "display_data"
    }
   ],
   "source": [
    "print(\"ADA Boost 70%-30% Split\")\n",
    "rate_classifier(ada_70_30_test_target, ada_boost_70_30_classifier_predict)"
   ]
  },
  {
   "attachments": {},
   "cell_type": "markdown",
   "metadata": {},
   "source": [
    "### Task 3.4\n",
    "* 80%-20% split"
   ]
  },
  {
   "attachments": {},
   "cell_type": "markdown",
   "metadata": {},
   "source": [
    "Majority Voting 80%-20%"
   ]
  },
  {
   "cell_type": "code",
   "execution_count": 117,
   "metadata": {},
   "outputs": [],
   "source": [
    "mv_80_20_train_set, mv_80_20_test_set = train_test_split(original_spam_df, test_size=0.20, random_state=99)"
   ]
  },
  {
   "cell_type": "code",
   "execution_count": 118,
   "metadata": {},
   "outputs": [],
   "source": [
    "mv_80_20_training_data, mv_80_20_training_target = mv_80_20_train_set[non_class_features], mv_80_20_train_set['Class']\n",
    "mv_80_20_test_data, mv_80_20_test_target = mv_80_20_test_set[non_class_features], mv_80_20_test_set['Class']"
   ]
  },
  {
   "cell_type": "code",
   "execution_count": 119,
   "metadata": {},
   "outputs": [
    {
     "name": "stdout",
     "output_type": "stream",
     "text": [
      "mv_80_20_training_data.shape = (3680, 57)\n",
      "mv_80_20_test_data.shape = (921, 57)\n"
     ]
    }
   ],
   "source": [
    "print(f'{mv_80_20_training_data.shape = }\\n{mv_80_20_test_data.shape = }')"
   ]
  },
  {
   "cell_type": "code",
   "execution_count": 120,
   "metadata": {},
   "outputs": [],
   "source": [
    "decision_tree_mv_80_20 = DecisionTreeClassifier().fit(mv_80_20_training_data, mv_80_20_training_target)\n",
    "gauss_nb_mv_80_20 = GaussianNB().fit(mv_80_20_training_data, mv_80_20_training_target)\n",
    "logistic_regression_mv_80_20 = LogisticRegression(max_iter=5000).fit(mv_80_20_training_data, mv_80_20_training_target)"
   ]
  },
  {
   "cell_type": "code",
   "execution_count": 121,
   "metadata": {},
   "outputs": [],
   "source": [
    "mv_80_20_classifier = VotingClassifier(estimators=[('DT', decision_tree_mv_80_20), ('GNB', gauss_nb_mv_80_20), ('LR', logistic_regression_mv_80_20)], voting='hard')\n",
    "mv_80_20_classifier = mv_80_20_classifier.fit(mv_80_20_training_data, mv_80_20_training_target)\n",
    "mv_80_20_classifier_predict = mv_80_20_classifier.predict(mv_80_20_test_data)"
   ]
  },
  {
   "cell_type": "code",
   "execution_count": 122,
   "metadata": {},
   "outputs": [
    {
     "name": "stdout",
     "output_type": "stream",
     "text": [
      "Classification Report\n",
      "               precision    recall  f1-score   support\n",
      "\n",
      "         ham       0.95      0.93      0.94       561\n",
      "        spam       0.90      0.93      0.91       360\n",
      "\n",
      "    accuracy                           0.93       921\n",
      "   macro avg       0.93      0.93      0.93       921\n",
      "weighted avg       0.93      0.93      0.93       921\n",
      "\n",
      "Accuracy Score\n",
      " 0.9315960912052117\n"
     ]
    },
    {
     "data": {
      "image/png": "[encoded data removed]",
      "text/plain": [
       "<Figure size 720x504 with 2 Axes>"
      ]
     },
     "metadata": {
      "needs_background": "light"
     },
     "output_type": "display_data"
    }
   ],
   "source": [
    "rate_classifier(mv_80_20_test_target, mv_80_20_classifier_predict)"
   ]
  },
  {
   "attachments": {},
   "cell_type": "markdown",
   "metadata": {},
   "source": [
    "ADA Boost 80%-20%"
   ]
  },
  {
   "cell_type": "code",
   "execution_count": 123,
   "metadata": {},
   "outputs": [],
   "source": [
    "ada_80_20_train_set, ada_80_20_test_set = train_test_split(original_spam_df, test_size=0.20, random_state=99)"
   ]
  },
  {
   "cell_type": "code",
   "execution_count": 124,
   "metadata": {},
   "outputs": [],
   "source": [
    "ada_80_20_training_data, ada_80_20_training_target = ada_80_20_train_set[non_class_features], ada_80_20_train_set['Class']\n",
    "ada_80_20_test_data, ada_80_20_test_target = ada_80_20_test_set[non_class_features], ada_80_20_test_set['Class']"
   ]
  },
  {
   "cell_type": "code",
   "execution_count": 125,
   "metadata": {},
   "outputs": [
    {
     "name": "stdout",
     "output_type": "stream",
     "text": [
      "ada_80_20_training_data.shape = (3680, 57)\n",
      "ada_80_20_test_data.shape = (921, 57)\n"
     ]
    }
   ],
   "source": [
    "print(f'{ada_80_20_training_data.shape = }\\n{ada_80_20_test_data.shape = }')"
   ]
  },
  {
   "cell_type": "code",
   "execution_count": 126,
   "metadata": {},
   "outputs": [],
   "source": [
    "ada_boost_80_20_classifier = AdaBoostClassifier(base_estimator=decision_tree_classifier).fit(ada_80_20_training_data, ada_80_20_training_target)\n",
    "ada_boost_80_20_classifier_predict = ada_boost_80_20_classifier.predict(ada_80_20_test_data)"
   ]
  },
  {
   "cell_type": "code",
   "execution_count": 127,
   "metadata": {},
   "outputs": [
    {
     "name": "stdout",
     "output_type": "stream",
     "text": [
      "Classification Report\n",
      "               precision    recall  f1-score   support\n",
      "\n",
      "         ham       0.96      0.97      0.96       561\n",
      "        spam       0.95      0.94      0.94       360\n",
      "\n",
      "    accuracy                           0.96       921\n",
      "   macro avg       0.96      0.95      0.95       921\n",
      "weighted avg       0.96      0.96      0.96       921\n",
      "\n",
      "Accuracy Score\n",
      " 0.9565689467969598\n"
     ]
    },
    {
     "data": {
      "image/png": "[encoded data removed]",
      "text/plain": [
       "<Figure size 720x504 with 2 Axes>"
      ]
     },
     "metadata": {
      "needs_background": "light"
     },
     "output_type": "display_data"
    }
   ],
   "source": [
    "rate_classifier(ada_80_20_test_target, ada_boost_80_20_classifier_predict)"
   ]
  },
  {
   "attachments": {},
   "cell_type": "markdown",
   "metadata": {},
   "source": [
    "#### 80%-20% split Comparision:\n",
    "* Majority Voting [(1) Decision Tree, (2) Gaussian Naïve Bayes, and (3) Logistic Regression]\n",
    "* ADA Boost [Decision Tree]"
   ]
  },
  {
   "cell_type": "code",
   "execution_count": 128,
   "metadata": {},
   "outputs": [
    {
     "name": "stdout",
     "output_type": "stream",
     "text": [
      "Majority Voting 80%-20% Split\n",
      "Classification Report\n",
      "               precision    recall  f1-score   support\n",
      "\n",
      "         ham       0.95      0.93      0.94       561\n",
      "        spam       0.90      0.93      0.91       360\n",
      "\n",
      "    accuracy                           0.93       921\n",
      "   macro avg       0.93      0.93      0.93       921\n",
      "weighted avg       0.93      0.93      0.93       921\n",
      "\n",
      "Accuracy Score\n",
      " 0.9315960912052117\n"
     ]
    },
    {
     "data": {
      "image/png": "[encoded data removed]",
      "text/plain": [
       "<Figure size 720x504 with 2 Axes>"
      ]
     },
     "metadata": {
      "needs_background": "light"
     },
     "output_type": "display_data"
    }
   ],
   "source": [
    "print(\"Majority Voting 80%-20% Split\")\n",
    "rate_classifier(mv_80_20_test_target, mv_80_20_classifier_predict)"
   ]
  },
  {
   "cell_type": "code",
   "execution_count": 129,
   "metadata": {},
   "outputs": [
    {
     "name": "stdout",
     "output_type": "stream",
     "text": [
      "ADA Boost 80%-20% Split\n",
      "Classification Report\n",
      "               precision    recall  f1-score   support\n",
      "\n",
      "         ham       0.96      0.97      0.96       561\n",
      "        spam       0.95      0.94      0.94       360\n",
      "\n",
      "    accuracy                           0.96       921\n",
      "   macro avg       0.96      0.95      0.95       921\n",
      "weighted avg       0.96      0.96      0.96       921\n",
      "\n",
      "Accuracy Score\n",
      " 0.9565689467969598\n"
     ]
    },
    {
     "data": {
      "image/png": "[encoded data removed]",
      "text/plain": [
       "<Figure size 720x504 with 2 Axes>"
      ]
     },
     "metadata": {
      "needs_background": "light"
     },
     "output_type": "display_data"
    }
   ],
   "source": [
    "print(\"ADA Boost 80%-20% Split\")\n",
    "rate_classifier(ada_80_20_test_target, ada_boost_80_20_classifier_predict)"
   ]
  }
 ],
 "metadata": {
  "kernelspec": {
   "display_name": "Python 3",
   "language": "python",
   "name": "python3"
  },
  "language_info": {
   "codemirror_mode": {
    "name": "ipython",
    "version": 3
   },
   "file_extension": ".py",
   "mimetype": "text/x-python",
   "name": "python",
   "nbconvert_exporter": "python",
   "pygments_lexer": "ipython3",
   "version": "3.10.4"
  },
  "orig_nbformat": 4,
  "vscode": {
   "interpreter": {
    "hash": "369f2c481f4da34e4445cda3fffd2e751bd1c4d706f27375911949ba6bb62e1c"
   }
  }
 },
 "nbformat": 4,
 "nbformat_minor": 2
}
